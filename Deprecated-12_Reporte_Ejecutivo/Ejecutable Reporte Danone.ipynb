{
 "cells": [
  {
   "cell_type": "code",
   "execution_count": 4,
   "metadata": {},
   "outputs": [
    {
     "name": "stdout",
     "output_type": "stream",
     "text": [
      "Reporte Ejecutivo Realizado\n"
     ]
    }
   ],
   "source": [
    "from Principal import procesar_datos\n",
    "\n",
    "hoja_marcas_yogures_manual=False\n",
    "hoja_marcas_queso_manual=True\n",
    "hoja_marcas_postres_manual=False\n",
    "\n",
    "procesar_datos(hoja_marcas_yogures_manual, hoja_marcas_queso_manual, hoja_marcas_postres_manual)\n"
   ]
  }
 ],
 "metadata": {
  "kernelspec": {
   "display_name": "Python 3",
   "language": "python",
   "name": "python3"
  },
  "language_info": {
   "codemirror_mode": {
    "name": "ipython",
    "version": 3
   },
   "file_extension": ".py",
   "mimetype": "text/x-python",
   "name": "python",
   "nbconvert_exporter": "python",
   "pygments_lexer": "ipython3",
   "version": "3.11.1"
  }
 },
 "nbformat": 4,
 "nbformat_minor": 2
}
